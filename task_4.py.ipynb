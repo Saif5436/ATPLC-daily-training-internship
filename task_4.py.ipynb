{
 "cells": [
  {
   "cell_type": "code",
   "execution_count": 1,
   "id": "0ec996d0",
   "metadata": {},
   "outputs": [
    {
     "name": "stdout",
     "output_type": "stream",
     "text": [
      "Enter First Number 20\n",
      "Enter Second Number 5\n",
      "HCF is 5\n"
     ]
    }
   ],
   "source": [
    "a = int(input(\"Enter First Number \"))\n",
    "b = int(input(\"Enter Second Number \"))\n",
    "ab = min(a,b)\n",
    "for i in range(ab, 0, -1):\n",
    "    if a % i ==0:\n",
    "        if b % i ==0:\n",
    "            print(\"HCF is\", i)\n",
    "            break"
   ]
  },
  {
   "cell_type": "code",
   "execution_count": 8,
   "id": "70c32f34",
   "metadata": {},
   "outputs": [
    {
     "name": "stdout",
     "output_type": "stream",
     "text": [
      "Armstrong Number Between 100 and 500 are:\n"
     ]
    }
   ],
   "source": [
    "def armstrong(num):\n",
    "    num = int(num)\n",
    "    l = len(str(num))\n",
    "    sum = 0\n",
    "    temp = num\n",
    "    while temp > 0:\n",
    "        d = temp %10\n",
    "        sum += d**1\n",
    "        temp //= 10\n",
    "    if (num == sum):  \n",
    "        print(num)\n",
    "        \n",
    "def main():\n",
    "    print(\"Armstrong Number Between 100 and 500 are:\")\n",
    "    for i in range(100, 501):\n",
    "        armstrong(i)\n",
    "        \n",
    "if __name__ == \"__main__\":\n",
    "    main()"
   ]
  },
  {
   "cell_type": "code",
   "execution_count": 9,
   "id": "e2cbc092",
   "metadata": {},
   "outputs": [
    {
     "name": "stdout",
     "output_type": "stream",
     "text": [
      "1\n",
      "2\n",
      "3 Fizz\n",
      "4\n",
      "5 Buzz\n",
      "6 Fizz\n",
      "7\n",
      "8\n",
      "9 Fizz\n",
      "10 Buzz\n",
      "11\n",
      "12 Fizz\n",
      "13\n",
      "14\n",
      "15 FizzaBuzz\n",
      "16\n",
      "17\n",
      "18 Fizz\n",
      "19\n",
      "20 Buzz\n",
      "21 Fizz\n",
      "22\n",
      "23\n",
      "24 Fizz\n",
      "25 Buzz\n",
      "26\n",
      "27 Fizz\n",
      "28\n",
      "29\n",
      "30 FizzaBuzz\n",
      "31\n",
      "32\n",
      "33 Fizz\n",
      "34\n",
      "35 Buzz\n",
      "36 Fizz\n",
      "37\n",
      "38\n",
      "39 Fizz\n",
      "40 Buzz\n",
      "41\n",
      "42 Fizz\n",
      "43\n",
      "44\n",
      "45 FizzaBuzz\n",
      "46\n",
      "47\n",
      "48 Fizz\n",
      "49\n",
      "50 Buzz\n"
     ]
    }
   ],
   "source": [
    "for i in range(1,51):\n",
    "    if (i % 5 == 0 and i % 3 == 0):\n",
    "        print(i,\"FizzaBuzz\")\n",
    "        continue\n",
    "    if (i % 3 == 0):\n",
    "        print(i,\"Fizz\")\n",
    "    elif(i % 5 == 0):\n",
    "        print(i, \"Buzz\")\n",
    "    else:\n",
    "        print(i)"
   ]
  },
  {
   "cell_type": "markdown",
   "id": "8f60d51b",
   "metadata": {},
   "source": []
  },
  {
   "cell_type": "code",
   "execution_count": null,
   "id": "54eba73a",
   "metadata": {},
   "outputs": [],
   "source": [
    "num = int(input(\"Enter a Number: \")) \n",
    "count = 0 \n",
    "temp = num\n",
    "while num:\n",
    "    num = num//10\n",
    "    count = count+1\n",
    "    print(\"The number {} is a {} digit number\".format(temp, count))"
   ]
  },
  {
   "cell_type": "code",
   "execution_count": null,
   "id": "7026be3f",
   "metadata": {},
   "outputs": [],
   "source": [
    "for i in range(50,0,-1):\n",
    "    print(i)"
   ]
  },
  {
   "cell_type": "code",
   "execution_count": null,
   "id": "4a6ec2c1",
   "metadata": {},
   "outputs": [],
   "source": [
    "num = 7\n",
    "while True:\n",
    "    guess = int(input(\"Guess a number between 1-9 : \"))\n",
    "    if guess == num:\n",
    "        print(\"well guessed!\")\n",
    "        break"
   ]
  },
  {
   "cell_type": "code",
   "execution_count": null,
   "id": "0f66a1d9",
   "metadata": {},
   "outputs": [],
   "source": []
  }
 ],
 "metadata": {
  "kernelspec": {
   "display_name": "Python 3 (ipykernel)",
   "language": "python",
   "name": "python3"
  },
  "language_info": {
   "codemirror_mode": {
    "name": "ipython",
    "version": 3
   },
   "file_extension": ".py",
   "mimetype": "text/x-python",
   "name": "python",
   "nbconvert_exporter": "python",
   "pygments_lexer": "ipython3",
   "version": "3.9.13"
  }
 },
 "nbformat": 4,
 "nbformat_minor": 5
}
