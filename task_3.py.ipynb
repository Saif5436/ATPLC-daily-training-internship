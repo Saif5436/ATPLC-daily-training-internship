{
 "cells": [
  {
   "cell_type": "code",
   "execution_count": 1,
   "id": "63915133",
   "metadata": {},
   "outputs": [
    {
     "name": "stdout",
     "output_type": "stream",
     "text": [
      "Enter items in list 4 5 7 2 9\n",
      "smallest item is 2\n"
     ]
    }
   ],
   "source": [
    "li= [int(x) for x in input(\"Enter items in list \").split()]\n",
    "print(\"smallest item is\",min(li))"
   ]
  },
  {
   "cell_type": "code",
   "execution_count": 3,
   "id": "80ca946d",
   "metadata": {},
   "outputs": [
    {
     "name": "stdout",
     "output_type": "stream",
     "text": [
      "Enter items in list 1\n",
      "The list is not empty\n"
     ]
    }
   ],
   "source": [
    "li = [int(x) for x in input(\"Enter items in list \").split()]\n",
    "if len(li) !=0:\n",
    "    print(\"The list is not empty\")\n",
    "else:\n",
    "        print(\"The list is empty\")\n",
    "    "
   ]
  },
  {
   "cell_type": "code",
   "execution_count": 8,
   "id": "fb901143",
   "metadata": {},
   "outputs": [
    {
     "name": "stdout",
     "output_type": "stream",
     "text": [
      "Enter the in list 1 items saif\n",
      "Enter the in list 2 items khan\n",
      "['saif', 'khan']\n"
     ]
    }
   ],
   "source": [
    "list1 = [x for x in input(\"Enter the in list 1 items \").split()]\n",
    "list2 = [x for x in input(\"Enter the in list 2 items \").split()]\n",
    "LIST = list1+list2\n",
    "print(LIST)"
   ]
  },
  {
   "cell_type": "code",
   "execution_count": null,
   "id": "78e8f586",
   "metadata": {},
   "outputs": [],
   "source": [
    "li = [x for x in input(\"Enter the list items : \").split()]\n",
    "loc = [0,4,5]\n",
    "li = [element for (index, element) in enumerate(li) if index not in loc]\n",
    "print(li)"
   ]
  },
  {
   "cell_type": "code",
   "execution_count": null,
   "id": "d51c971e",
   "metadata": {},
   "outputs": [],
   "source": []
  }
 ],
 "metadata": {
  "kernelspec": {
   "display_name": "Python 3 (ipykernel)",
   "language": "python",
   "name": "python3"
  },
  "language_info": {
   "codemirror_mode": {
    "name": "ipython",
    "version": 3
   },
   "file_extension": ".py",
   "mimetype": "text/x-python",
   "name": "python",
   "nbconvert_exporter": "python",
   "pygments_lexer": "ipython3",
   "version": "3.9.13"
  }
 },
 "nbformat": 4,
 "nbformat_minor": 5
}
