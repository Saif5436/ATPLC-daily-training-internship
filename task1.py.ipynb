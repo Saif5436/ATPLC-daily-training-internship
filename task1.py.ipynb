{
 "cells": [
  {
   "cell_type": "code",
   "execution_count": 2,
   "id": "bf24217d",
   "metadata": {},
   "outputs": [
    {
     "name": "stdout",
     "output_type": "stream",
     "text": [
      "input your first name:saif\n",
      "input your last name:khan\n",
      "khan saif\n"
     ]
    }
   ],
   "source": [
    "fname=input(\"input your first name:\")\n",
    "lname=input(\"input your last name:\")\n",
    "print(lname+\" \"+fname)"
   ]
  },
  {
   "cell_type": "code",
   "execution_count": 4,
   "id": "de2ce7b8",
   "metadata": {},
   "outputs": [
    {
     "name": "stdout",
     "output_type": "stream",
     "text": [
      "enter the value of n: 4\n",
      "84\n"
     ]
    }
   ],
   "source": [
    "n=int(input(\"enter the value of n: \"))\n",
    "cal=n+n*n+n**3\n",
    "print(cal)"
   ]
  },
  {
   "cell_type": "code",
   "execution_count": 7,
   "id": "4d637987",
   "metadata": {},
   "outputs": [
    {
     "name": "stdout",
     "output_type": "stream",
     "text": [
      "NAME**IS**james\n"
     ]
    }
   ],
   "source": [
    "a ,b ,c=\"NAME\",\"IS\",\"james\"\n",
    "print(a+\"**\"+b+\"**\"+c)\n"
   ]
  },
  {
   "cell_type": "code",
   "execution_count": 11,
   "id": "e9808c4e",
   "metadata": {},
   "outputs": [
    {
     "name": "stdout",
     "output_type": "stream",
     "text": [
      "enter a number12.5\n",
      "12.50\n"
     ]
    }
   ],
   "source": [
    "a=float(input(\"enter a number\"))\n",
    "print(\"%.2f\" %a)"
   ]
  },
  {
   "cell_type": "code",
   "execution_count": 12,
   "id": "c464e1c7",
   "metadata": {},
   "outputs": [
    {
     "name": "stdout",
     "output_type": "stream",
     "text": [
      "Enter three string :python is easy\n",
      "python\n",
      "is\n",
      "easy\n"
     ]
    }
   ],
   "source": [
    "m,n,o=input(\"Enter three string :\").split()\n",
    "print(m)\n",
    "print(n)\n",
    "print(o)"
   ]
  },
  {
   "cell_type": "code",
   "execution_count": null,
   "id": "fee7cf21",
   "metadata": {},
   "outputs": [],
   "source": []
  },
  {
   "cell_type": "code",
   "execution_count": null,
   "id": "b5ce00b1",
   "metadata": {},
   "outputs": [],
   "source": []
  },
  {
   "cell_type": "code",
   "execution_count": null,
   "id": "496679a9",
   "metadata": {},
   "outputs": [],
   "source": []
  }
 ],
 "metadata": {
  "kernelspec": {
   "display_name": "Python 3 (ipykernel)",
   "language": "python",
   "name": "python3"
  },
  "language_info": {
   "codemirror_mode": {
    "name": "ipython",
    "version": 3
   },
   "file_extension": ".py",
   "mimetype": "text/x-python",
   "name": "python",
   "nbconvert_exporter": "python",
   "pygments_lexer": "ipython3",
   "version": "3.9.13"
  }
 },
 "nbformat": 4,
 "nbformat_minor": 5
}
