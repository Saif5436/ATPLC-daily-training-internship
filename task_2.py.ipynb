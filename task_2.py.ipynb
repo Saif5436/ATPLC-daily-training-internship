{
 "cells": [
  {
   "cell_type": "code",
   "execution_count": 1,
   "id": "0e48ed19",
   "metadata": {},
   "outputs": [
    {
     "name": "stdout",
     "output_type": "stream",
     "text": [
      "Enter a number55\n",
      "76\n"
     ]
    }
   ],
   "source": [
    "a=int(input(\"Enter a number\"))\n",
    "if a<17:\n",
    "    print(int(17-a))\n",
    "else:\n",
    "    print(int(2*abs(17-a)))"
   ]
  },
  {
   "cell_type": "code",
   "execution_count": 2,
   "id": "1a278f61",
   "metadata": {},
   "outputs": [
    {
     "name": "stdout",
     "output_type": "stream",
     "text": [
      "Enter a year2016\n",
      "The year 2016 is a LEAP YEAR\n"
     ]
    }
   ],
   "source": [
    "y=int(input(\"Enter a year\"))\n",
    "if(y % 400 == 0 or (y % 100 !=0 and y % 4== 0 )):\n",
    "    print(\"The year {} is a LEAP YEAR\".format(y))\n",
    "else:\n",
    "    print(\"The year {} is not a LEAP YEAR\".format(y))"
   ]
  },
  {
   "cell_type": "code",
   "execution_count": 5,
   "id": "cb50d9ab",
   "metadata": {},
   "outputs": [
    {
     "name": "stdout",
     "output_type": "stream",
     "text": [
      "Enter Three Numbers3 4 5\n",
      "The sum is 12\n"
     ]
    }
   ],
   "source": [
    "num1, num2, num3 = (int(x)for x in input(\"Enter Three Numbers\").split())\n",
    "sum = 0\n",
    "if (num1 == num2 or num2 ==num3 or num3 ==num1):\n",
    "    print(\"The sum is \", sum)\n",
    "else:\n",
    "    sum = num1+num2+num3\n",
    "    print(\"The sum is\", sum)"
   ]
  },
  {
   "cell_type": "code",
   "execution_count": 7,
   "id": "2899d29f",
   "metadata": {},
   "outputs": [
    {
     "name": "stdout",
     "output_type": "stream",
     "text": [
      "Input the name of Month: May\n",
      "No. of days 31 days\n"
     ]
    }
   ],
   "source": [
    "month_name = input(\"Input the name of Month: \")\n",
    "if(month_name == \"February\"):\n",
    "    print(\"No. of days 28/29 days\")\n",
    "elif (month_name in (\"April\",\"June\",\"september\",\"November\")):\n",
    "    print(\"No. of days 30 days\")\n",
    "elif (month_name in (\"January\",\"March\",\"May\",\"july\",\"August\",\"October\",\"December\")): \n",
    "    print(\"No. of days 31 days\")\n",
    "else:\n",
    "    print(\"No such month name exists\")"
   ]
  },
  {
   "cell_type": "code",
   "execution_count": null,
   "id": "7fc2843a",
   "metadata": {},
   "outputs": [
    {
     "name": "stdout",
     "output_type": "stream",
     "text": [
      "Input lengths of the triangle sides: \n"
     ]
    }
   ],
   "source": [
    "print(\"Input lengths of the triangle sides: \")\n",
    "x = int(input(\"x: \"))\n",
    "y = int(input(\"y: \"))\n",
    "z = int(input(\"z: \"))\n",
    "\n",
    "if (x == y == z):\n",
    "    print(\"Equilateral triangle\")\n",
    "elif (x == y or y == z or z == x):\n",
    "    print(\"Isosceles triangle\")\n",
    "else:\n",
    "    print(\"Scalen triangle\")"
   ]
  },
  {
   "cell_type": "code",
   "execution_count": null,
   "id": "d5c52afe",
   "metadata": {},
   "outputs": [],
   "source": []
  }
 ],
 "metadata": {
  "kernelspec": {
   "display_name": "Python 3 (ipykernel)",
   "language": "python",
   "name": "python3"
  },
  "language_info": {
   "codemirror_mode": {
    "name": "ipython",
    "version": 3
   },
   "file_extension": ".py",
   "mimetype": "text/x-python",
   "name": "python",
   "nbconvert_exporter": "python",
   "pygments_lexer": "ipython3",
   "version": "3.9.13"
  }
 },
 "nbformat": 4,
 "nbformat_minor": 5
}
